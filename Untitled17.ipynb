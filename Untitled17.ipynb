{
  "nbformat": 4,
  "nbformat_minor": 0,
  "metadata": {
    "colab": {
      "provenance": [],
      "authorship_tag": "ABX9TyMjYda+x893OwpVZOfvgdXR",
      "include_colab_link": true
    },
    "kernelspec": {
      "name": "python3",
      "display_name": "Python 3"
    },
    "language_info": {
      "name": "python"
    }
  },
  "cells": [
    {
      "cell_type": "markdown",
      "metadata": {
        "id": "view-in-github",
        "colab_type": "text"
      },
      "source": [
        "<a href=\"https://colab.research.google.com/github/trishaladabala/Genetic-Algorithms/blob/main/Untitled17.ipynb\" target=\"_parent\"><img src=\"https://colab.research.google.com/assets/colab-badge.svg\" alt=\"Open In Colab\"/></a>"
      ]
    },
    {
      "cell_type": "code",
      "source": [
        "import numpy as np"
      ],
      "metadata": {
        "id": "YHvqVqNE9WKJ"
      },
      "execution_count": 1,
      "outputs": []
    },
    {
      "cell_type": "code",
      "execution_count": 15,
      "metadata": {
        "id": "qXhiuTRE84xq"
      },
      "outputs": [],
      "source": [
        "def pop_gen(n, b):\n",
        "    arr = np.random.randint(0, 2, size=(n, b))\n",
        "    return arr"
      ]
    },
    {
      "cell_type": "code",
      "source": [
        "def pop_fitness(arr, b):\n",
        "    fit = []\n",
        "    val = []\n",
        "\n",
        "    total = 0\n",
        "    for i in range(len(arr)):\n",
        "        num = int(\"\".join(str(bit) for bit in arr[i]), 2)\n",
        "        val.append(num)\n",
        "        total += num ** 2\n",
        "\n",
        "    for i in range(len(val)):\n",
        "        fit.append(val[i] ** 2 / total)\n",
        "\n",
        "    return fit, val"
      ],
      "metadata": {
        "id": "qzUqj673CTrs"
      },
      "execution_count": 18,
      "outputs": []
    },
    {
      "cell_type": "code",
      "source": [
        "def selection(arr, b):\n",
        "    fit, val = pop_fitness(arr, b)\n",
        "\n",
        "    # Select row indices based on fitness probabilities\n",
        "    row_ind = np.random.choice(len(arr), size=len(arr), p=fit)\n",
        "\n",
        "    # Create a new array with selected individuals\n",
        "    arr1 = np.array([arr[i] for i in row_ind])\n",
        "\n",
        "    return arr1\n"
      ],
      "metadata": {
        "id": "Z3zMl8up_M45"
      },
      "execution_count": 21,
      "outputs": []
    },
    {
      "cell_type": "code",
      "source": [
        "def crossover(arr,n1,n2,b):\n",
        "  k= np.random.randint(0,b-1)\n",
        "  for i in range(k,b):\n",
        "    temp = arr[n1][i]\n",
        "    arr[n1][i] = arr[n2][i]\n",
        "    arr[n2][i] = temp\n",
        "  return arr\n",
        ""
      ],
      "metadata": {
        "id": "koULcT6L9onF"
      },
      "execution_count": 24,
      "outputs": []
    },
    {
      "cell_type": "code",
      "source": [
        "def mutation(arr,b,n):\n",
        "  k=np.random.randint(0,b-1)\n",
        "  i=np.random.randint(0,n-1)\n",
        "  arr[i][k] = 1 if arr[i][k] == 0 else 0\n",
        "  return arr"
      ],
      "metadata": {
        "id": "Gcy0RKB9-iFR"
      },
      "execution_count": 6,
      "outputs": []
    },
    {
      "cell_type": "code",
      "source": [
        "n=10\n",
        "b=8\n",
        "arr = pop_gen(n,b)\n",
        "print(arr)\n",
        "count==0\n",
        "for count in range(0,100):\n",
        "  arr = selection(arr,b)\n",
        "  n1 = np.random.randint(0,n-1)\n",
        "  n2 = np.random.randint(n1,n)\n",
        "  arr = crossover(arr,n1,n2,b)\n",
        "  if count%2==0:\n",
        "    arr = mutation(arr,b,n)\n",
        "  s=0\n",
        "  for i in range(0,n):\n",
        "    num = int(\"\".join(str(bit) for bit in arr[i]), 2)\n",
        "    if num==255:\n",
        "      print(\"Solution found\")\n",
        "      print(arr)\n",
        "      s=1\n",
        "      break\n",
        "    else:\n",
        "      s=0\n",
        "  if s==1:\n",
        "    break\n",
        "print(count)"
      ],
      "metadata": {
        "colab": {
          "base_uri": "https://localhost:8080/"
        },
        "id": "X7tXwj5aFC_V",
        "outputId": "a5899060-d5a7-476a-dbcf-8f0b938ef76c"
      },
      "execution_count": 102,
      "outputs": [
        {
          "output_type": "stream",
          "name": "stdout",
          "text": [
            "[[0 0 1 0 1 1 0 1]\n",
            " [0 0 0 1 0 1 0 0]\n",
            " [0 1 0 1 0 0 0 1]\n",
            " [1 1 0 0 0 1 1 0]\n",
            " [0 0 1 0 0 1 0 1]\n",
            " [0 1 0 0 1 1 1 1]\n",
            " [1 1 1 0 0 1 1 1]\n",
            " [1 0 0 0 1 1 0 0]\n",
            " [0 0 0 1 0 1 0 0]\n",
            " [0 1 0 1 1 1 0 1]]\n",
            "Solution found\n",
            "[[1 1 1 1 1 1 1 1]\n",
            " [1 1 1 1 0 1 1 1]\n",
            " [1 1 1 1 0 1 1 1]\n",
            " [1 1 1 1 0 1 1 1]\n",
            " [1 1 1 1 0 1 1 1]\n",
            " [1 1 1 1 0 1 1 1]\n",
            " [1 1 1 1 0 1 1 1]\n",
            " [1 1 1 1 0 1 1 1]\n",
            " [1 1 1 1 0 1 1 1]\n",
            " [1 1 1 1 0 1 1 1]]\n",
            "38\n"
          ]
        }
      ]
    }
  ]
}